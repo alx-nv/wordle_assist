{
 "cells": [
  {
   "cell_type": "code",
   "execution_count": 142,
   "id": "270c93f4",
   "metadata": {},
   "outputs": [
    {
     "data": {
      "text/plain": [
       "'lkkkk “stag lando\\n \\n \\n Chronicles of Avonlea\\n by\\n Lucy Maud Montgomery\\n Part 1 out of 5\\n \\n     FullBooks.com homepage\\n     Index of Chronicles of Avonlea\\n     Next part (2)\\n \\n \\n \\n \\n \\n \\n \\n \\n Typed and '"
      ]
     },
     "execution_count": 142,
     "metadata": {},
     "output_type": "execute_result"
    }
   ],
   "source": [
    "import pandas as pd\n",
    "import numpy as np\n",
    "import matplotlib.pyplot as plt\n",
    "\n",
    "with open('mixed','r',encoding='utf-8') as file:\n",
    "    raw0 = ' '.join(file.readlines())\n",
    "raw0[0:200]"
   ]
  },
  {
   "cell_type": "code",
   "execution_count": 143,
   "id": "078592dd",
   "metadata": {},
   "outputs": [],
   "source": [
    "# [needs improvement]\n",
    "# remove problem characters\n",
    "import string\n",
    "#raw0 = raw0.replace(u'’', u\"'\").replace('”','\"').replace('“','\"').replace('—','-').replace(\"‘\",\"'\").replace('Æ','AE')\n",
    "raw0 = raw0.translate(raw0.maketrans(\"—’‘Æsæíúáâó‚…ë\",\"-''Asaiuaao,_e\" ))\n",
    "raw0 = raw0.translate(raw0.maketrans('”“','\"\"'))"
   ]
  },
  {
   "cell_type": "code",
   "execution_count": 144,
   "id": "bb45af59",
   "metadata": {},
   "outputs": [
    {
     "data": {
      "text/plain": [
       "'lkkkk  stag lando   chronicles of avonlea by lucy maud montgomery part   out of        fullbooks com homepage     index of chronicles of avonlea     next part             typed and corrected by kjell nedrelid  last modified              dd mm yyyy  uncorrected version released to internet             this version released             you can freely distribute this text in any form as long as you don t get paid for it  please include this short header       the boys  life of abraham lincoln by helen nicolay part   out of        fullbooks com homepage     index of the boys  life of abraham lincoln     next part             scanned by dianne bean of phoenix  arizona    chronicles of avonlea by lucy maud montgomery part   out of        fullbooks com homepage     index of chronicles of avonlea     previous part        and i ll be as amiable as i know how  but since you have gone to the trouble of getting my supper for me  nancy  you must stay and help me eat it  them strawberries look good  i haven t had any this summer  been too busy to pick them    nancy stayed  she sat at the head of peter s table and poured his tea for him  she talked to him wittily of the avonlea people and the changes in their old set  peter followed her lead with an apparent absence of self consciousness  eating his supper like a man whose heart and mind were alike on good terms with him  nancy felt wretched  and  at the same time  ridiculously happy  it seemed the most grotesque thing in the world that she should be presiding there at peter s table  and yet the most natural  there were moments when she felt like crying  other moments when her laughter was as ready and spontaneous as a girl s  sentiment and humour had always waged an equal contest in nancy s nature   when peter had finished his strawberries he folded his arms on the table and looked admiringly at nancy    you look well at the head of a table  nancy   he said critically   how is it that you haven t been presiding at one of your own'"
      ]
     },
     "execution_count": 144,
     "metadata": {},
     "output_type": "execute_result"
    }
   ],
   "source": [
    "# remove punctuation and numbers & change letters to lowercase\n",
    "raw1 = raw0.lower()\n",
    "raw1 = raw1.translate(raw0.maketrans({'\\n':None}))\n",
    "raw1 = raw1.translate(raw1.maketrans(string.punctuation, ' '*len(string.punctuation)))\n",
    "raw1 = raw1.translate(raw1.maketrans(string.digits, ' '*len(string.digits)))\n",
    "raw1 = ''.join(filter(lambda x: x.isspace or x.isalpha, raw1))\n",
    "raw1[0:2000]"
   ]
  },
  {
   "cell_type": "code",
   "execution_count": 145,
   "id": "38a400d3",
   "metadata": {},
   "outputs": [
    {
     "data": {
      "text/plain": [
       "17068935"
      ]
     },
     "execution_count": 145,
     "metadata": {},
     "output_type": "execute_result"
    }
   ],
   "source": [
    "len(raw1)"
   ]
  },
  {
   "cell_type": "code",
   "execution_count": 146,
   "id": "74076988",
   "metadata": {},
   "outputs": [
    {
     "data": {
      "text/plain": [
       "['a', 'aa', 'aaa', 'aah', 'aahed']"
      ]
     },
     "execution_count": 146,
     "metadata": {},
     "output_type": "execute_result"
    }
   ],
   "source": [
    "# split text into a words list and remove repeating words\n",
    "raw2 = list(set(raw1.split()))\n",
    "raw2.sort()\n",
    "raw2[0:5]"
   ]
  },
  {
   "cell_type": "code",
   "execution_count": null,
   "id": "0d4ae298",
   "metadata": {},
   "outputs": [],
   "source": [
    "# remove all but the 5-letter words\n",
    "raw2copy  = raw2.copy()\n",
    "for word in raw2copy:\n",
    "    if len(word) != 5:\n",
    "        raw2.remove(word)\n",
    "raw2[0:5]"
   ]
  },
  {
   "cell_type": "code",
   "execution_count": null,
   "id": "52a1b796",
   "metadata": {},
   "outputs": [],
   "source": [
    "# a side step to determine letter frequencies only in 5 letter words\n",
    "five_letter_words_text = ''.join(raw2)\n",
    "five_letter_words_text[0:100]"
   ]
  },
  {
   "cell_type": "code",
   "execution_count": null,
   "id": "0c3514d7",
   "metadata": {},
   "outputs": [],
   "source": [
    "freqs5 = {}\n",
    "for letter in string.ascii_lowercase:\n",
    "    freqs5[letter] = float(\"{:.2f}\".format(100*five_letter_words_text.count(letter)/len(five_letter_words_text)))\n",
    "freqs5"
   ]
  },
  {
   "cell_type": "code",
   "execution_count": null,
   "id": "8b823b72",
   "metadata": {},
   "outputs": [],
   "source": [
    "# create a letter frequency dictionary based on\n",
    "# http://pi.math.cornell.edu/~mec/2003-2004/cryptography/subs/frequencies.html\n",
    "freqs = {\n",
    "    'e':12.02,\n",
    "    't':9.10,\n",
    "    'a':8.12,\n",
    "    'o':7.68,\n",
    "    'i':7.31,\n",
    "    'n':6.95,\n",
    "    's':6.28,\n",
    "    'r':6.02,\n",
    "    'h':5.92,\n",
    "    'd':4.32,\n",
    "    'l':3.98,\n",
    "    'u':2.88,\n",
    "    'c':2.71,\n",
    "    'm':2.61,\n",
    "    'f':2.30,\n",
    "    'y':2.11,\n",
    "    'w':2.09,\n",
    "    'g':2.03,\n",
    "    'p':1.82,\n",
    "    'b':1.49,\n",
    "    'v':1.11,\n",
    "    'k':0.69,\n",
    "    'x':0.17,\n",
    "    'q':0.11,\n",
    "    'j':0.10,\n",
    "    'z':0.07\n",
    "}"
   ]
  },
  {
   "cell_type": "code",
   "execution_count": null,
   "id": "41e58346",
   "metadata": {},
   "outputs": [],
   "source": [
    "# compare the 'all words' frequencywith the 'five letter words' frequency\n",
    "for letter in freqs:\n",
    "    print(f'{letter} : {round(freqs5[letter]/freqs[letter],3)}')"
   ]
  },
  {
   "cell_type": "code",
   "execution_count": null,
   "id": "0a99f9d6",
   "metadata": {},
   "outputs": [],
   "source": [
    "# create a 'words' dataframe\n",
    "words_df = pd.DataFrame(data = {'words':raw2})\n",
    "words_df.head(2)"
   ]
  },
  {
   "cell_type": "code",
   "execution_count": null,
   "id": "4c3bb3fc",
   "metadata": {},
   "outputs": [],
   "source": [
    "# create a 'frequency score' column\n",
    "# for each word all letters' frequency values are added to get the word's score\n",
    "\n",
    "# single & double quotes are to be dealt with\n",
    "def freq_sum(word):\n",
    "    score = 0\n",
    "    for letter in word:\n",
    "        try:\n",
    "            score = score + freqs[letter]\n",
    "        except KeyError:\n",
    "            pass\n",
    "    return float(\"{:.3f}\".format(score))\n",
    "\n",
    "words_df['frequency score'] = words_df['words'].apply(freq_sum)\n",
    "words_df.head(3)"
   ]
  },
  {
   "cell_type": "code",
   "execution_count": null,
   "id": "40787ba6",
   "metadata": {
    "scrolled": true
   },
   "outputs": [],
   "source": [
    "# create a 'freq5 score' column but use the freq5 values\n",
    "def freq5_sum(word):\n",
    "    score = 0\n",
    "    for letter in word:\n",
    "        try:\n",
    "            score = score + freqs5[letter]\n",
    "        except KeyError:\n",
    "            pass\n",
    "    return float(\"{:.2f}\".format(score))\n",
    "\n",
    "words_df['freq5 score'] = words_df['words'].apply(freq5_sum)\n",
    "words_df.head(2)"
   ]
  },
  {
   "cell_type": "code",
   "execution_count": null,
   "id": "32b1e94b",
   "metadata": {},
   "outputs": [],
   "source": [
    "# create a 'vowel count' column\n",
    "# count the number of vowels in the word\n",
    "vowels = 'aeiou'\n",
    "def count_vowels(word):\n",
    "    fraction = 0\n",
    "    for letter in word:\n",
    "        if letter in vowels:\n",
    "            fraction +=1\n",
    "    return fraction\n",
    "words_df['vowels count'] = words_df['words'].apply(count_vowels)\n",
    "words_df.head(2)"
   ]
  },
  {
   "cell_type": "code",
   "execution_count": null,
   "id": "58b96f21",
   "metadata": {
    "scrolled": true
   },
   "outputs": [],
   "source": [
    "# create a 'repeating letters' column\n",
    "# return a list of tupples of the form (letter, repetitions)\n",
    "def repeating_letters(word):\n",
    "    if len(set(word)) == len(word):\n",
    "        return 'no repeats'\n",
    "    repetitions = []\n",
    "    for letter in word:\n",
    "        if word.count(letter)>1:\n",
    "            repetitions.append((letter,word.count(letter)))\n",
    "    return list(set(repetitions))[0]\n",
    "            \n",
    "words_df['repeating letters'] = words_df['words'].apply(repeating_letters)\n",
    "words_df.head(2)"
   ]
  },
  {
   "cell_type": "code",
   "execution_count": null,
   "id": "5488a315",
   "metadata": {
    "scrolled": false
   },
   "outputs": [],
   "source": [
    "# top scoring words\n",
    "words_df[words_df['repeating letters']==\"no repeats\"].sort_values('frequency score',ascending = False).head()"
   ]
  },
  {
   "cell_type": "code",
   "execution_count": null,
   "id": "ea1295ba",
   "metadata": {},
   "outputs": [],
   "source": [
    "# creating an empty table of all letters and all positions\n",
    "letters_df = pd.DataFrame(data = np.zeros((5,26), dtype=int), index = [1,2,3,4,5], columns=list(string.ascii_lowercase))"
   ]
  },
  {
   "cell_type": "code",
   "execution_count": null,
   "id": "685b2c42",
   "metadata": {},
   "outputs": [],
   "source": [
    "# count the number of appearances of each letter on each position\n",
    "for i in range(5):\n",
    "    for word in words_df.words:\n",
    "        letters_df.loc[i+1, str(word[i])] += 1"
   ]
  },
  {
   "cell_type": "code",
   "execution_count": null,
   "id": "ea650e9a",
   "metadata": {
    "scrolled": true
   },
   "outputs": [],
   "source": [
    "letters_df"
   ]
  },
  {
   "cell_type": "code",
   "execution_count": null,
   "id": "20cd27b4",
   "metadata": {},
   "outputs": [],
   "source": [
    "# normalize for each letter\n",
    "sums = pd.Series(letters_df.sum(axis=0))\n",
    "best_pos_for_letter = round(100*letters_df/sums,1)\n",
    "best_pos_for_letter"
   ]
  },
  {
   "cell_type": "code",
   "execution_count": null,
   "id": "075ec59e",
   "metadata": {},
   "outputs": [],
   "source": [
    "# plot heatmap of the best position for each letter\n",
    "plt.rcParams[\"figure.figsize\"] = (20,3)\n",
    "\n",
    "fig, ax = plt.subplots()\n",
    "im = ax.imshow(best_pos_for_letter, cmap='bone')\n",
    "ax.set_xticks(np.arange(26), labels=string.ascii_lowercase)\n",
    "ax.set_yticks(np.arange(5), labels='12345')\n",
    "\n",
    "# only accent on positions where the appearance is larger than average (100% / 5 = 20%)\n",
    "for i in range(len('12345')):\n",
    "    for j in range(len(string.ascii_lowercase)):\n",
    "        if best_pos_for_letter.iloc[i,j] > 20:\n",
    "            text = ax.text(j, i, best_pos_for_letter.iloc[i,j], ha=\"center\", va=\"center\", color=\"r\")\n",
    "        else:\n",
    "            text = ax.text(j, i, 'x', ha=\"center\", va=\"center\", color=\"g\")\n",
    "\n",
    "plt.title( \"Best position for each letter\" )\n",
    "plt.show()"
   ]
  },
  {
   "cell_type": "code",
   "execution_count": null,
   "id": "43f8d588",
   "metadata": {},
   "outputs": [],
   "source": [
    "# analogical chart for 'best letter for each position'"
   ]
  },
  {
   "cell_type": "code",
   "execution_count": null,
   "id": "75b04045",
   "metadata": {},
   "outputs": [],
   "source": []
  },
  {
   "cell_type": "code",
   "execution_count": null,
   "id": "5a642908",
   "metadata": {},
   "outputs": [],
   "source": []
  }
 ],
 "metadata": {
  "kernelspec": {
   "display_name": "Python 3 (ipykernel)",
   "language": "python",
   "name": "python3"
  },
  "language_info": {
   "codemirror_mode": {
    "name": "ipython",
    "version": 3
   },
   "file_extension": ".py",
   "mimetype": "text/x-python",
   "name": "python",
   "nbconvert_exporter": "python",
   "pygments_lexer": "ipython3",
   "version": "3.8.10"
  }
 },
 "nbformat": 4,
 "nbformat_minor": 5
}
